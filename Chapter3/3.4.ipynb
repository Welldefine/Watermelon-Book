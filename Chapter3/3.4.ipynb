{
 "cells": [
  {
   "cell_type": "markdown",
   "metadata": {},
   "source": [
    "# 3.4 选择两个UCI数据集，比较10折交叉验证法和留一法所估计出的对率回归的错误率\n",
    "> 数据集链接：https://archive.ics.uci.edu/dataset/176/blood+transfusion+service+center"
   ]
  },
  {
   "cell_type": "code",
   "execution_count": 1,
   "metadata": {},
   "outputs": [],
   "source": [
    "import numpy as np\n",
    "import pandas as pd \n",
    "import matplotlib.pyplot as plt"
   ]
  },
  {
   "cell_type": "markdown",
   "metadata": {},
   "source": [
    "## 数据准备"
   ]
  },
  {
   "cell_type": "code",
   "execution_count": 2,
   "metadata": {},
   "outputs": [
    {
     "data": {
      "text/plain": [
       "array([[    2,    50, 12500,    98,     1],\n",
       "       [    0,    13,  3250,    28,     1],\n",
       "       [    1,    16,  4000,    35,     1],\n",
       "       ...,\n",
       "       [   23,     3,   750,    62,     0],\n",
       "       [   39,     1,   250,    39,     0],\n",
       "       [   72,     1,   250,    72,     0]], dtype=int64)"
      ]
     },
     "execution_count": 2,
     "metadata": {},
     "output_type": "execute_result"
    }
   ],
   "source": [
    "df=pd.read_csv('transfusion.data')\n",
    "data=np.array(df)\n",
    "data"
   ]
  },
  {
   "cell_type": "markdown",
   "metadata": {},
   "source": [
    "## 对数几率回归"
   ]
  },
  {
   "cell_type": "code",
   "execution_count": 3,
   "metadata": {},
   "outputs": [],
   "source": [
    "def getDataSet(dataSet):\n",
    "    \"\"\"\n",
    "    get watermelon data set UCI.\n",
    "    :return:(feature array, label array)\n",
    "    \"\"\"\n",
    "    # insert number 1 before colummn 0.\n",
    "    # e.g: dataSet[0]=[1,0.697,0.460,1]\n",
    "    dataSet = np.insert(dataSet,0,\n",
    "                        np.ones(dataSet.shape[0]),\n",
    "                        axis=1)\n",
    "    dataArr = dataSet[:,:-1]\n",
    "    labelArr = dataSet[:,-1]\n",
    "    return dataArr, labelArr"
   ]
  },
  {
   "cell_type": "code",
   "execution_count": 4,
   "metadata": {},
   "outputs": [],
   "source": [
    "def sigmoid(x):\n",
    "    return 1.0 / (1.0 + np.exp(-x))\n",
    "\n",
    "def gradDescent(dataArr, labelArr,alpha,T):\n",
    "    \"\"\"\n",
    "    calculate logistic parameters by gradient descent method.\n",
    "    :param dataArr: input data set with shape(m,n)\n",
    "    :param labelArr: the label of data set with shape(m,1)\n",
    "    :param alpha: step length (learning rate)\n",
    "    :param T: iteration\n",
    "    :return: parameters of gradient descent method.\n",
    "    \"\"\"\n",
    "    m,n = dataArr.shape\n",
    "    labelArr = labelArr.reshape(-1,1)\n",
    "    errList=[]\n",
    "\n",
    "    beta=np.ones((n,1))\n",
    "    for t in range(T):\n",
    "        py1=sigmoid(np.dot(dataArr,beta))\n",
    "        dBetaMat=-dataArr*(labelArr-py1)\n",
    "        # shape (1,n)\n",
    "        dBeta=np.sum(dBetaMat,axis=0,keepdims=True)\n",
    "        beta-=alpha*dBeta.T\n",
    "\n",
    "        #test code\n",
    "        pre=predict(beta,dataArr)\n",
    "        errorRate = cntErrRate(pre,labelArr)\n",
    "        errList.append(errorRate)\n",
    "\n",
    "    return beta,errList"
   ]
  },
  {
   "cell_type": "code",
   "execution_count": 5,
   "metadata": {},
   "outputs": [],
   "source": [
    "def predict(beta,dataArr):\n",
    "    preArr=sigmoid(np.dot(dataArr,beta))\n",
    "    preArr[preArr>0.5]=1\n",
    "    preArr[preArr<0.5]=0\n",
    "\n",
    "    return preArr"
   ]
  },
  {
   "cell_type": "code",
   "execution_count": 6,
   "metadata": {},
   "outputs": [],
   "source": [
    "def cntErrRate(preLabel,label):\n",
    "    \"\"\"\n",
    "    calculate error rate of predicted label by cnt method.\n",
    "    :param preLabel: predict label\n",
    "    :param label: real label\n",
    "    :return: error rate\n",
    "    \"\"\"\n",
    "    m=len(preLabel)\n",
    "    cnt=0.0\n",
    "\n",
    "    for i in range(m):\n",
    "        if preLabel[i]!=label[i]:\n",
    "            cnt+=1.0\n",
    "    return cnt/float(m)"
   ]
  },
  {
   "cell_type": "code",
   "execution_count": 7,
   "metadata": {},
   "outputs": [
    {
     "name": "stdout",
     "output_type": "stream",
     "text": [
      "gradient descent error rate is: 0.23128342245989306\n"
     ]
    },
    {
     "data": {
      "image/png": "[encoded data removed]",
      "text/plain": [
       "<Figure size 640x480 with 1 Axes>"
      ]
     },
     "metadata": {},
     "output_type": "display_data"
    }
   ],
   "source": [
    "dataArr, labelArr = getDataSet(data)\n",
    "dataArr = (dataArr - dataArr.mean()) / dataArr.std()\n",
    "\n",
    "# gradien descent\n",
    "T=10000\n",
    "learningRate=0.001\n",
    "betaGrad, errGrad=gradDescent(dataArr, labelArr,learningRate,T)\n",
    "print(\"gradient descent error rate is:\",errGrad[-1])\n",
    "\n",
    " # plot gradient descent Ein\n",
    "plt.figure()\n",
    "x1=np.linspace(1,T+1,T)\n",
    "plt.plot(x1,errGrad,label='gradient descent')\n",
    "plt.xlabel(\"t\")\n",
    "plt.ylabel(\"Ein\")\n",
    "plt.title(\"gradient descent Ein\")\n",
    "plt.legend()\n",
    "\n",
    "plt.show()"
   ]
  },
  {
   "cell_type": "markdown",
   "metadata": {},
   "source": [
    "## 十折交叉验证"
   ]
  },
  {
   "cell_type": "code",
   "execution_count": 8,
   "metadata": {},
   "outputs": [],
   "source": [
    "# 随机打乱数据\n",
    "np.random.seed(123)\n",
    "rand_data=np.random.permutation(data)\n",
    "\n",
    "# 分离label\n",
    "X_v,y_v=getDataSet(rand_data)\n",
    "X_v = (X_v - X_v.mean()) / X_v.std()\n",
    "\n",
    "# 定义accuracy\n",
    "def accuracy(pre,y):\n",
    "    sum=0\n",
    "    for i in range(len(y)):\n",
    "        if pre[i]==y[i]:\n",
    "            sum+=1\n",
    "    return sum/len(pre)\n",
    "\n",
    "# 10折交叉验证\n",
    "def data_split_test(seq,X,y,show=1):\n",
    "    sum1=0\n",
    "    sum2=0\n",
    "    ran=int(X.shape[0]/seq)\n",
    "    for i in range(seq):\n",
    "        rest_X=X[i*ran:(i+1)*ran]\n",
    "        rest_y=y[i*ran:(i+1)*ran]\n",
    "        temp_X=X[list(range(0,i*ran))+list(range((i+1)*ran,X.shape[0]))]\n",
    "        temp_y=y[list(range(0,i*ran))+list(range((i+1)*ran,y.shape[0]))]\n",
    "        beta,errGrad=gradDescent(temp_X,temp_y,0.001,1000)\n",
    "        pre_train=predict(beta,temp_X)\n",
    "        sum1+=accuracy(pre_train,temp_y)\n",
    "        pre_test=predict(beta,rest_X)\n",
    "        sum2+=accuracy(pre_test,rest_y)\n",
    "        if(show):\n",
    "            print(\"第{}折\".format(i+1))\n",
    "            print(\"gradient descent error rate is:\",errGrad[-1])\n",
    "            print(\"Train accuracy: {}%\".format(100*accuracy(pre_train,temp_y)))\n",
    "            print(\"Test accuracy: {}%\".format(100*accuracy(pre_test,rest_y)))\n",
    "    return sum1/seq,sum2/seq\n",
    "    "
   ]
  },
  {
   "cell_type": "code",
   "execution_count": 9,
   "metadata": {},
   "outputs": [
    {
     "name": "stdout",
     "output_type": "stream",
     "text": [
      "第1折\n",
      "gradient descent error rate is: 0.22700296735905046\n",
      "Train accuracy: 77.29970326409496%\n",
      "Test accuracy: 67.56756756756756%\n",
      "第2折\n",
      "gradient descent error rate is: 0.23887240356083086\n",
      "Train accuracy: 76.11275964391692%\n",
      "Test accuracy: 78.37837837837837%\n",
      "第3折\n",
      "gradient descent error rate is: 0.23738872403560832\n",
      "Train accuracy: 76.26112759643917%\n",
      "Test accuracy: 77.02702702702703%\n",
      "第4折\n",
      "gradient descent error rate is: 0.2314540059347181\n",
      "Train accuracy: 76.8545994065282%\n",
      "Test accuracy: 71.62162162162163%\n",
      "第5折\n",
      "gradient descent error rate is: 0.23590504451038577\n",
      "Train accuracy: 76.40949554896143%\n",
      "Test accuracy: 79.72972972972973%\n",
      "第6折\n",
      "gradient descent error rate is: 0.23738872403560832\n",
      "Train accuracy: 76.26112759643917%\n",
      "Test accuracy: 79.72972972972973%\n",
      "第7折\n",
      "gradient descent error rate is: 0.23590504451038577\n",
      "Train accuracy: 76.40949554896143%\n",
      "Test accuracy: 78.37837837837837%\n",
      "第8折\n",
      "gradient descent error rate is: 0.23590504451038577\n",
      "Train accuracy: 76.40949554896143%\n",
      "Test accuracy: 81.08108108108108%\n",
      "第9折\n",
      "gradient descent error rate is: 0.2403560830860534\n",
      "Train accuracy: 75.96439169139467%\n",
      "Test accuracy: 82.43243243243244%\n",
      "第10折\n",
      "gradient descent error rate is: 0.23293768545994065\n",
      "Train accuracy: 76.70623145400593%\n",
      "Test accuracy: 72.97297297297297%\n",
      "\n",
      "十折交叉验证后\n",
      "Average Train accuracy is 76.46884272997033%\n",
      "Average Test accuracy is 76.8918918918919%\n"
     ]
    }
   ],
   "source": [
    "acc_train,acc_test=data_split_test(10,X_v,y_v,1)\n",
    "print(\"\\n十折交叉验证后\")\n",
    "print(\"Average Train accuracy is {}%\".format(100*acc_train))\n",
    "print(\"Average Test accuracy is {}%\".format(100*acc_test))"
   ]
  },
  {
   "cell_type": "markdown",
   "metadata": {},
   "source": [
    "## 留一法"
   ]
  },
  {
   "cell_type": "code",
   "execution_count": 10,
   "metadata": {},
   "outputs": [
    {
     "name": "stdout",
     "output_type": "stream",
     "text": [
      "\n",
      "留一法\n",
      "Total train accuracy is 76.57850653952697%\n",
      "Total test accuracy is 76.33689839572193%\n"
     ]
    }
   ],
   "source": [
    "acc_train1,acc_test1 = data_split_test(X_v.shape[0], X_v, y_v,show=0)\n",
    "print(\"\\n留一法\")\n",
    "print(\"Total train accuracy is {}%\".format(acc_train1 * 100))\n",
    "print(\"Total test accuracy is {}%\".format(acc_test1*100))"
   ]
  }
 ],
 "metadata": {
  "kernelspec": {
   "display_name": "base",
   "language": "python",
   "name": "python3"
  },
  "language_info": {
   "codemirror_mode": {
    "name": "ipython",
    "version": 3
   },
   "file_extension": ".py",
   "mimetype": "text/x-python",
   "name": "python",
   "nbconvert_exporter": "python",
   "pygments_lexer": "ipython3",
   "version": "3.12.4"
  }
 },
 "nbformat": 4,
 "nbformat_minor": 2
}
